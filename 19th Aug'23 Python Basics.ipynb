{
 "cells": [
  {
   "cell_type": "code",
   "execution_count": 7,
   "id": "5e6bd2e0-0e30-49dc-9a11-a27cacebfa00",
   "metadata": {},
   "outputs": [
    {
     "data": {
      "text/plain": [
       "'Declare two variables, `x` and `y`, and assign them integer values. Swap the values of these variables without using any temporary variable.'"
      ]
     },
     "execution_count": 7,
     "metadata": {},
     "output_type": "execute_result"
    }
   ],
   "source": [
    "'''Declare two variables, `x` and `y`, and assign them integer values. Swap the values of these variables without using any temporary variable.'''"
   ]
  },
  {
   "cell_type": "code",
   "execution_count": 1,
   "id": "a0901588-ea10-468b-bb55-0fb31ebd143b",
   "metadata": {},
   "outputs": [],
   "source": [
    "x= 5"
   ]
  },
  {
   "cell_type": "code",
   "execution_count": 2,
   "id": "bfb0e48e-219f-4330-9f04-9b0d637e053c",
   "metadata": {},
   "outputs": [],
   "source": [
    "y = 10"
   ]
  },
  {
   "cell_type": "code",
   "execution_count": 3,
   "id": "04c252f9-2785-41ad-8585-5d3d748613c0",
   "metadata": {},
   "outputs": [],
   "source": [
    "x = y+x"
   ]
  },
  {
   "cell_type": "code",
   "execution_count": 4,
   "id": "52561336-d3b5-4844-ad89-023e303c9c1d",
   "metadata": {},
   "outputs": [],
   "source": [
    "y = x-y"
   ]
  },
  {
   "cell_type": "code",
   "execution_count": 5,
   "id": "c5d3ba2b-9ccb-4313-8cce-f60572de9733",
   "metadata": {},
   "outputs": [],
   "source": [
    "x = x-y"
   ]
  },
  {
   "cell_type": "code",
   "execution_count": 6,
   "id": "2bbaf5ab-d911-4ef3-bf30-43f374a206ca",
   "metadata": {},
   "outputs": [
    {
     "data": {
      "text/plain": [
       "(10, 5)"
      ]
     },
     "execution_count": 6,
     "metadata": {},
     "output_type": "execute_result"
    }
   ],
   "source": [
    "#After Swapping \n",
    "x,y"
   ]
  },
  {
   "cell_type": "code",
   "execution_count": 7,
   "id": "d7afbf34-1f7d-417d-9a78-69f476b89200",
   "metadata": {},
   "outputs": [
    {
     "data": {
      "text/plain": [
       "'Create a program that calculates the area of a rectangle. Take the length and width as inputs from the user and store them in variables. Calculate and display the area.'"
      ]
     },
     "execution_count": 7,
     "metadata": {},
     "output_type": "execute_result"
    }
   ],
   "source": [
    "'''Create a program that calculates the area of a rectangle. Take the length and width as inputs from the user and store them in variables. Calculate and display the area.'''"
   ]
  },
  {
   "cell_type": "code",
   "execution_count": 8,
   "id": "c3ea5412-f5bb-4414-aafa-13723ae12850",
   "metadata": {},
   "outputs": [
    {
     "name": "stdin",
     "output_type": "stream",
     "text": [
      " 23.0\n"
     ]
    }
   ],
   "source": [
    "length = float(input())"
   ]
  },
  {
   "cell_type": "code",
   "execution_count": 9,
   "id": "0d1e4faa-efb7-44d8-9a1f-1babdd7423e1",
   "metadata": {},
   "outputs": [
    {
     "name": "stdin",
     "output_type": "stream",
     "text": [
      " 15.9\n"
     ]
    }
   ],
   "source": [
    "breath = float(input())"
   ]
  },
  {
   "cell_type": "code",
   "execution_count": 19,
   "id": "59e180cc-ee9e-4665-b69a-89e3a3ca7cac",
   "metadata": {},
   "outputs": [],
   "source": [
    "area = length*breath"
   ]
  },
  {
   "cell_type": "code",
   "execution_count": 21,
   "id": "8b5cd914-a4ec-453f-8764-d0a7946ee361",
   "metadata": {},
   "outputs": [
    {
     "data": {
      "text/plain": [
       "365.7"
      ]
     },
     "execution_count": 21,
     "metadata": {},
     "output_type": "execute_result"
    }
   ],
   "source": [
    "area"
   ]
  },
  {
   "cell_type": "code",
   "execution_count": 23,
   "id": "51346058-c010-4d4d-9f52-4d1acddb0234",
   "metadata": {},
   "outputs": [
    {
     "data": {
      "text/plain": [
       "'Write a Python program that converts temperatures from Celsius to Fahrenheit. Take the temperature in Celsius as input, store it in a variable,convert it to Fahrenheit, and display the result.'"
      ]
     },
     "execution_count": 23,
     "metadata": {},
     "output_type": "execute_result"
    }
   ],
   "source": [
    "'''Write a Python program that converts temperatures from Celsius to Fahrenheit. Take the temperature in Celsius as input, store it in a variable,convert it to Fahrenheit, and display the result.'''"
   ]
  },
  {
   "cell_type": "code",
   "execution_count": 25,
   "id": "3e9352a9-819f-40d9-bd9f-132d01c06f91",
   "metadata": {},
   "outputs": [
    {
     "name": "stdin",
     "output_type": "stream",
     "text": [
      " 25.9\n"
     ]
    }
   ],
   "source": [
    "Celsius = float(input())"
   ]
  },
  {
   "cell_type": "code",
   "execution_count": 30,
   "id": "13824f8f-9b02-414d-8b2b-5737a4748849",
   "metadata": {},
   "outputs": [],
   "source": [
    "Farenheit = (Celsius*9/5)+32"
   ]
  },
  {
   "cell_type": "code",
   "execution_count": 32,
   "id": "5664246e-2a98-45b2-ad0c-ca57e8f5a0cb",
   "metadata": {},
   "outputs": [
    {
     "data": {
      "text/plain": [
       "78.62"
      ]
     },
     "execution_count": 32,
     "metadata": {},
     "output_type": "execute_result"
    }
   ],
   "source": [
    "Farenheit"
   ]
  },
  {
   "cell_type": "code",
   "execution_count": 33,
   "id": "e76d2824-b3f7-4c01-ad8f-30b96fd243d7",
   "metadata": {},
   "outputs": [
    {
     "data": {
      "text/plain": [
       "'Write a Python program that takes a string as input and prints the length of the string.'"
      ]
     },
     "execution_count": 33,
     "metadata": {},
     "output_type": "execute_result"
    }
   ],
   "source": [
    "'''Write a Python program that takes a string as input and prints the length of the string.'''"
   ]
  },
  {
   "cell_type": "code",
   "execution_count": 34,
   "id": "9a8836a3-3758-4256-be03-06bd154170cf",
   "metadata": {},
   "outputs": [],
   "source": [
    "C = \"Abdur\""
   ]
  },
  {
   "cell_type": "code",
   "execution_count": 35,
   "id": "c42ef80d-abb7-4fd9-974d-966711723743",
   "metadata": {},
   "outputs": [
    {
     "data": {
      "text/plain": [
       "5"
      ]
     },
     "execution_count": 35,
     "metadata": {},
     "output_type": "execute_result"
    }
   ],
   "source": [
    "len(C)"
   ]
  },
  {
   "cell_type": "code",
   "execution_count": 36,
   "id": "064507ba-5af3-4cc4-b845-35b121253114",
   "metadata": {},
   "outputs": [
    {
     "data": {
      "text/plain": [
       "'. Create a program that takes a sentence from the user and counts the number of vowels (a, e, i, o, u) in the string.'"
      ]
     },
     "execution_count": 36,
     "metadata": {},
     "output_type": "execute_result"
    }
   ],
   "source": [
    "'''. Create a program that takes a sentence from the user and counts the number of vowels (a, e, i, o, u) in the string.'''"
   ]
  },
  {
   "cell_type": "code",
   "execution_count": 39,
   "id": "d5a0fccf-97e2-468e-996a-df4f952ca525",
   "metadata": {},
   "outputs": [],
   "source": [
    "sentence = \"This one is from Freedy Uday.\""
   ]
  },
  {
   "cell_type": "code",
   "execution_count": 40,
   "id": "0858496c-53f8-4907-8016-719f5c9cc3b0",
   "metadata": {},
   "outputs": [],
   "source": [
    "vowel_count = 0"
   ]
  },
  {
   "cell_type": "code",
   "execution_count": 41,
   "id": "50a5bfae-338a-4c80-97ef-f1f3e7e61734",
   "metadata": {},
   "outputs": [],
   "source": [
    "sentence = sentence.lower()"
   ]
  },
  {
   "cell_type": "code",
   "execution_count": 50,
   "id": "98cdb300-2e0e-474a-b5ca-57315e9b0646",
   "metadata": {},
   "outputs": [],
   "source": [
    "for char in sentence:\n",
    "    if char in \"aeiou\":\n",
    "        vowel_count += 1"
   ]
  },
  {
   "cell_type": "code",
   "execution_count": 51,
   "id": "cc3c3ec8-78c0-48c2-8e9f-2b0cc9d18884",
   "metadata": {},
   "outputs": [
    {
     "name": "stdout",
     "output_type": "stream",
     "text": [
      "Number of vowels in the sentence:  18\n"
     ]
    }
   ],
   "source": [
    "print(\"Number of vowels in the sentence: \", vowel_count)"
   ]
  },
  {
   "cell_type": "code",
   "execution_count": 53,
   "id": "14e98869-7fce-4f09-927b-b7f223e61786",
   "metadata": {},
   "outputs": [
    {
     "data": {
      "text/plain": [
       "'Given a string, reverse the order of characters using string slicing and print the reversed string.'"
      ]
     },
     "execution_count": 53,
     "metadata": {},
     "output_type": "execute_result"
    }
   ],
   "source": [
    "'''Given a string, reverse the order of characters using string slicing and print the reversed string.'''"
   ]
  },
  {
   "cell_type": "code",
   "execution_count": 54,
   "id": "6ecf0a21-e5ce-40f1-b12f-18864a649810",
   "metadata": {},
   "outputs": [],
   "source": [
    "ab = \"Abdur\""
   ]
  },
  {
   "cell_type": "code",
   "execution_count": 56,
   "id": "2e742278-b7f0-4d6c-b3c3-e8e3e5137cb9",
   "metadata": {},
   "outputs": [
    {
     "data": {
      "text/plain": [
       "'rudbA'"
      ]
     },
     "execution_count": 56,
     "metadata": {},
     "output_type": "execute_result"
    }
   ],
   "source": [
    "ab[-1::-1]"
   ]
  },
  {
   "cell_type": "code",
   "execution_count": 58,
   "id": "51664454-e55c-4782-a97e-afc2ba560db6",
   "metadata": {},
   "outputs": [
    {
     "data": {
      "text/plain": [
       "'Write a program that takes a string as input and checks if it is a palindrome\\n(reads the same forwards and backwards)'"
      ]
     },
     "execution_count": 58,
     "metadata": {},
     "output_type": "execute_result"
    }
   ],
   "source": [
    "'''Write a program that takes a string as input and checks if it is a palindrome\n",
    "(reads the same forwards and backwards)'''"
   ]
  },
  {
   "cell_type": "code",
   "execution_count": 59,
   "id": "fa32a4cb-f9ee-4db9-89f2-702f0081f1c4",
   "metadata": {},
   "outputs": [
    {
     "name": "stdin",
     "output_type": "stream",
     "text": [
      "Enter a string:  Hello, My name is Abdur\n"
     ]
    }
   ],
   "source": [
    "input_string = input(\"Enter a string: \")"
   ]
  },
  {
   "cell_type": "code",
   "execution_count": 71,
   "id": "0ea0658b-940a-4be5-8b71-157ae53839a4",
   "metadata": {},
   "outputs": [],
   "source": [
    "input_string = input_string.replace(\" \", \"\").lower()"
   ]
  },
  {
   "cell_type": "code",
   "execution_count": 73,
   "id": "28c2b5cf-4207-4ffe-9cb6-225ba8e95b1f",
   "metadata": {},
   "outputs": [
    {
     "data": {
      "text/plain": [
       "'hello,myworldisyou.'"
      ]
     },
     "execution_count": 73,
     "metadata": {},
     "output_type": "execute_result"
    }
   ],
   "source": [
    "input_string"
   ]
  },
  {
   "cell_type": "code",
   "execution_count": 62,
   "id": "d6f96a96-29ed-43a2-bec7-c5ac793f6b30",
   "metadata": {},
   "outputs": [],
   "source": [
    "reversed_string = input_string[::-1]"
   ]
  },
  {
   "cell_type": "code",
   "execution_count": 63,
   "id": "7fbd9636-12eb-4a01-a60c-3703dd762f91",
   "metadata": {},
   "outputs": [
    {
     "name": "stdout",
     "output_type": "stream",
     "text": [
      "The input string is not a palindrome.\n"
     ]
    }
   ],
   "source": [
    "if input_string == reversed_string:\n",
    "    print(\"The input string is a palindrome.\")\n",
    "else:\n",
    "    print(\"The input string is not a palindrome.\")"
   ]
  },
  {
   "cell_type": "code",
   "execution_count": 65,
   "id": "58131776-fc22-470c-81ba-97fbd376d222",
   "metadata": {},
   "outputs": [
    {
     "data": {
      "text/plain": [
       "'Create a program that takes a string as input and removes all the spaces from it. Print the modified string without spaces.'"
      ]
     },
     "execution_count": 65,
     "metadata": {},
     "output_type": "execute_result"
    }
   ],
   "source": [
    "'''Create a program that takes a string as input and removes all the spaces from it. Print the modified string without spaces.'''"
   ]
  },
  {
   "cell_type": "code",
   "execution_count": 68,
   "id": "dc74eb44-b7f3-4bda-9149-e0d06b1baf28",
   "metadata": {},
   "outputs": [
    {
     "name": "stdin",
     "output_type": "stream",
     "text": [
      "Enter a string:  hello, my world is you.\n"
     ]
    }
   ],
   "source": [
    "input_string = input(\"Enter a string: \")"
   ]
  },
  {
   "cell_type": "code",
   "execution_count": 69,
   "id": "daf1226d-1389-4b37-8b1d-5405e9b8279d",
   "metadata": {},
   "outputs": [],
   "source": [
    "modified_string = input_string.replace(\" \", \"\")"
   ]
  },
  {
   "cell_type": "code",
   "execution_count": 70,
   "id": "e83e2a68-6a28-44ca-afc1-efef305a1b10",
   "metadata": {},
   "outputs": [
    {
     "name": "stdout",
     "output_type": "stream",
     "text": [
      "modified_string without space:  hello,myworldisyou.\n"
     ]
    }
   ],
   "source": [
    "print(\"modified_string without space: \", modified_string)"
   ]
  },
  {
   "cell_type": "code",
   "execution_count": null,
   "id": "c2f28fbd-be4c-45db-96b2-c7afea82fce7",
   "metadata": {},
   "outputs": [],
   "source": []
  }
 ],
 "metadata": {
  "kernelspec": {
   "display_name": "Python 3 (ipykernel)",
   "language": "python",
   "name": "python3"
  },
  "language_info": {
   "codemirror_mode": {
    "name": "ipython",
    "version": 3
   },
   "file_extension": ".py",
   "mimetype": "text/x-python",
   "name": "python",
   "nbconvert_exporter": "python",
   "pygments_lexer": "ipython3",
   "version": "3.10.8"
  }
 },
 "nbformat": 4,
 "nbformat_minor": 5
}
